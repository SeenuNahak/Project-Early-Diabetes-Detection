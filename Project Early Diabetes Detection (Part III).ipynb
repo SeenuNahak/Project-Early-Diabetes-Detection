{
 "cells": [
  {
   "cell_type": "code",
   "execution_count": 1,
   "id": "fb6325e8",
   "metadata": {},
   "outputs": [],
   "source": [
    "# import libraries\n",
    "import pandas as pd\n",
    "\n",
    "from sklearn.model_selection import train_test_split\n",
    "from sklearn.dummy import DummyClassifier\n",
    "from sklearn.linear_model import LogisticRegression\n",
    "from sklearn.tree import DecisionTreeClassifier\n",
    "from sklearn.ensemble import RandomForestClassifier\n",
    "\n",
    "from sklearn.metrics import confusion_matrix, classification_report\n"
   ]
  },
  {
   "cell_type": "code",
   "execution_count": 2,
   "id": "cfe24bef",
   "metadata": {},
   "outputs": [],
   "source": [
    "# prepare our independent and dependent variables\n",
    "df =pd.read_csv(\"diabetes_data_clean.csv\")\n",
    "\n",
    "X = df.drop('class', axis=1)\n",
    "y = df['class']\n"
   ]
  },
  {
   "cell_type": "code",
   "execution_count": 3,
   "id": "6bf763c2",
   "metadata": {},
   "outputs": [],
   "source": [
    "# split data into train and test\n",
    "X_train, X_test, y_train, y_test = train_test_split(X, y, test_size = 0.2, \n",
    "                                                    stratify = y)"
   ]
  },
  {
   "cell_type": "code",
   "execution_count": 4,
   "id": "9758f1ca",
   "metadata": {},
   "outputs": [],
   "source": [
    "# begin our model training\n",
    "# start with DummyClassifier to establish baseline\n",
    "dummy = DummyClassifier()\n",
    "dummy.fit(X_train, y_train)\n",
    "dummy_pred = dummy.predict(X_test)"
   ]
  },
  {
   "cell_type": "code",
   "execution_count": 5,
   "id": "488f41e8",
   "metadata": {},
   "outputs": [
    {
     "data": {
      "text/plain": [
       "array([[ 0, 40],\n",
       "       [ 0, 64]], dtype=int64)"
      ]
     },
     "execution_count": 5,
     "metadata": {},
     "output_type": "execute_result"
    }
   ],
   "source": [
    "# assess DummyClassifier model\n",
    "confusion_matrix(y_test, dummy_pred)"
   ]
  },
  {
   "cell_type": "code",
   "execution_count": 6,
   "id": "6dbc5c04",
   "metadata": {},
   "outputs": [
    {
     "name": "stdout",
     "output_type": "stream",
     "text": [
      "              precision    recall  f1-score   support\n",
      "\n",
      "           0       0.00      0.00      0.00        40\n",
      "           1       0.62      1.00      0.76        64\n",
      "\n",
      "    accuracy                           0.62       104\n",
      "   macro avg       0.31      0.50      0.38       104\n",
      "weighted avg       0.38      0.62      0.47       104\n",
      "\n"
     ]
    },
    {
     "name": "stderr",
     "output_type": "stream",
     "text": [
      "C:\\Users\\Seenu Nahak\\anaconda3\\lib\\site-packages\\sklearn\\metrics\\_classification.py:1248: UndefinedMetricWarning: Precision and F-score are ill-defined and being set to 0.0 in labels with no predicted samples. Use `zero_division` parameter to control this behavior.\n",
      "  _warn_prf(average, modifier, msg_start, len(result))\n",
      "C:\\Users\\Seenu Nahak\\anaconda3\\lib\\site-packages\\sklearn\\metrics\\_classification.py:1248: UndefinedMetricWarning: Precision and F-score are ill-defined and being set to 0.0 in labels with no predicted samples. Use `zero_division` parameter to control this behavior.\n",
      "  _warn_prf(average, modifier, msg_start, len(result))\n",
      "C:\\Users\\Seenu Nahak\\anaconda3\\lib\\site-packages\\sklearn\\metrics\\_classification.py:1248: UndefinedMetricWarning: Precision and F-score are ill-defined and being set to 0.0 in labels with no predicted samples. Use `zero_division` parameter to control this behavior.\n",
      "  _warn_prf(average, modifier, msg_start, len(result))\n"
     ]
    }
   ],
   "source": [
    "# use a classification report\n",
    "print(classification_report(y_test, dummy_pred))"
   ]
  },
  {
   "cell_type": "code",
   "execution_count": 7,
   "id": "78fd82b6",
   "metadata": {},
   "outputs": [],
   "source": [
    "# start with LogisticRegression\n",
    "logr = LogisticRegression(max_iter=10000)\n",
    "logr.fit(X_train, y_train)\n",
    "logr_pred = logr.predict(X_test)"
   ]
  },
  {
   "cell_type": "code",
   "execution_count": 8,
   "id": "7366cb33",
   "metadata": {},
   "outputs": [
    {
     "data": {
      "text/plain": [
       "array([[35,  5],\n",
       "       [ 4, 60]], dtype=int64)"
      ]
     },
     "execution_count": 8,
     "metadata": {},
     "output_type": "execute_result"
    }
   ],
   "source": [
    "confusion_matrix(y_test, logr_pred)"
   ]
  },
  {
   "cell_type": "code",
   "execution_count": 9,
   "id": "699523e4",
   "metadata": {},
   "outputs": [
    {
     "name": "stdout",
     "output_type": "stream",
     "text": [
      "              precision    recall  f1-score   support\n",
      "\n",
      "           0       0.90      0.88      0.89        40\n",
      "           1       0.92      0.94      0.93        64\n",
      "\n",
      "    accuracy                           0.91       104\n",
      "   macro avg       0.91      0.91      0.91       104\n",
      "weighted avg       0.91      0.91      0.91       104\n",
      "\n"
     ]
    }
   ],
   "source": [
    "print(classification_report(y_test, logr_pred))"
   ]
  },
  {
   "cell_type": "code",
   "execution_count": 10,
   "id": "6113e2eb",
   "metadata": {},
   "outputs": [],
   "source": [
    "# try DecisionTree\n",
    "tree = DecisionTreeClassifier()\n",
    "tree.fit(X_train, y_train)\n",
    "tree_pred = tree.predict(X_test)"
   ]
  },
  {
   "cell_type": "code",
   "execution_count": 11,
   "id": "7e429104",
   "metadata": {},
   "outputs": [
    {
     "data": {
      "text/plain": [
       "array([[38,  2],\n",
       "       [ 1, 63]], dtype=int64)"
      ]
     },
     "execution_count": 11,
     "metadata": {},
     "output_type": "execute_result"
    }
   ],
   "source": [
    "confusion_matrix(y_test, tree_pred)"
   ]
  },
  {
   "cell_type": "code",
   "execution_count": 12,
   "id": "6d589ecb",
   "metadata": {},
   "outputs": [
    {
     "name": "stdout",
     "output_type": "stream",
     "text": [
      "              precision    recall  f1-score   support\n",
      "\n",
      "           0       0.97      0.95      0.96        40\n",
      "           1       0.97      0.98      0.98        64\n",
      "\n",
      "    accuracy                           0.97       104\n",
      "   macro avg       0.97      0.97      0.97       104\n",
      "weighted avg       0.97      0.97      0.97       104\n",
      "\n"
     ]
    }
   ],
   "source": [
    "print(classification_report(y_test, tree_pred))"
   ]
  },
  {
   "cell_type": "code",
   "execution_count": 13,
   "id": "32c3e8e0",
   "metadata": {},
   "outputs": [],
   "source": [
    "# try RandomForest\n",
    "forest = RandomForestClassifier()\n",
    "forest.fit(X_train, y_train)\n",
    "forest_pred = forest.predict(X_test)"
   ]
  },
  {
   "cell_type": "code",
   "execution_count": 14,
   "id": "717492d7",
   "metadata": {},
   "outputs": [
    {
     "data": {
      "text/plain": [
       "array([[37,  3],\n",
       "       [ 0, 64]], dtype=int64)"
      ]
     },
     "execution_count": 14,
     "metadata": {},
     "output_type": "execute_result"
    }
   ],
   "source": [
    "confusion_matrix(y_test, forest_pred)"
   ]
  },
  {
   "cell_type": "code",
   "execution_count": 15,
   "id": "93535f30",
   "metadata": {},
   "outputs": [
    {
     "name": "stdout",
     "output_type": "stream",
     "text": [
      "              precision    recall  f1-score   support\n",
      "\n",
      "           0       1.00      0.93      0.96        40\n",
      "           1       0.96      1.00      0.98        64\n",
      "\n",
      "    accuracy                           0.97       104\n",
      "   macro avg       0.98      0.96      0.97       104\n",
      "weighted avg       0.97      0.97      0.97       104\n",
      "\n"
     ]
    }
   ],
   "source": [
    "print(classification_report(y_test, forest_pred))"
   ]
  },
  {
   "cell_type": "code",
   "execution_count": 16,
   "id": "388bb98f",
   "metadata": {},
   "outputs": [
    {
     "data": {
      "text/plain": [
       "array([0.09118487, 0.09600694, 0.2332844 , 0.20225181, 0.05276632,\n",
       "       0.01618913, 0.02714777, 0.02469652, 0.03045743, 0.02652772,\n",
       "       0.04423708, 0.02946612, 0.04332907, 0.02432374, 0.0396608 ,\n",
       "       0.0184703 ])"
      ]
     },
     "execution_count": 16,
     "metadata": {},
     "output_type": "execute_result"
    }
   ],
   "source": [
    "forest.feature_importances_"
   ]
  },
  {
   "cell_type": "code",
   "execution_count": 17,
   "id": "da5eb748",
   "metadata": {},
   "outputs": [
    {
     "data": {
      "text/plain": [
       "Index(['age', 'ismale', 'polyuria', 'polydipsia', 'sudden weight loss',\n",
       "       'weakness', 'polyphagia', 'genital thrush', 'visual blurring',\n",
       "       'itching', 'irritability', 'delayed healing', 'partial paresis',\n",
       "       'muscle stiffness', 'alopecia', 'obesity'],\n",
       "      dtype='object')"
      ]
     },
     "execution_count": 17,
     "metadata": {},
     "output_type": "execute_result"
    }
   ],
   "source": [
    "X.columns\n"
   ]
  },
  {
   "cell_type": "code",
   "execution_count": 18,
   "id": "0dc671bc",
   "metadata": {},
   "outputs": [
    {
     "data": {
      "text/html": [
       "<div>\n",
       "<style scoped>\n",
       "    .dataframe tbody tr th:only-of-type {\n",
       "        vertical-align: middle;\n",
       "    }\n",
       "\n",
       "    .dataframe tbody tr th {\n",
       "        vertical-align: top;\n",
       "    }\n",
       "\n",
       "    .dataframe thead th {\n",
       "        text-align: right;\n",
       "    }\n",
       "</style>\n",
       "<table border=\"1\" class=\"dataframe\">\n",
       "  <thead>\n",
       "    <tr style=\"text-align: right;\">\n",
       "      <th></th>\n",
       "      <th>feature</th>\n",
       "      <th>importance</th>\n",
       "    </tr>\n",
       "  </thead>\n",
       "  <tbody>\n",
       "    <tr>\n",
       "      <th>2</th>\n",
       "      <td>polyuria</td>\n",
       "      <td>0.233284</td>\n",
       "    </tr>\n",
       "    <tr>\n",
       "      <th>3</th>\n",
       "      <td>polydipsia</td>\n",
       "      <td>0.202252</td>\n",
       "    </tr>\n",
       "    <tr>\n",
       "      <th>1</th>\n",
       "      <td>ismale</td>\n",
       "      <td>0.096007</td>\n",
       "    </tr>\n",
       "    <tr>\n",
       "      <th>0</th>\n",
       "      <td>age</td>\n",
       "      <td>0.091185</td>\n",
       "    </tr>\n",
       "    <tr>\n",
       "      <th>4</th>\n",
       "      <td>sudden weight loss</td>\n",
       "      <td>0.052766</td>\n",
       "    </tr>\n",
       "    <tr>\n",
       "      <th>10</th>\n",
       "      <td>irritability</td>\n",
       "      <td>0.044237</td>\n",
       "    </tr>\n",
       "    <tr>\n",
       "      <th>12</th>\n",
       "      <td>partial paresis</td>\n",
       "      <td>0.043329</td>\n",
       "    </tr>\n",
       "    <tr>\n",
       "      <th>14</th>\n",
       "      <td>alopecia</td>\n",
       "      <td>0.039661</td>\n",
       "    </tr>\n",
       "    <tr>\n",
       "      <th>8</th>\n",
       "      <td>visual blurring</td>\n",
       "      <td>0.030457</td>\n",
       "    </tr>\n",
       "    <tr>\n",
       "      <th>11</th>\n",
       "      <td>delayed healing</td>\n",
       "      <td>0.029466</td>\n",
       "    </tr>\n",
       "    <tr>\n",
       "      <th>6</th>\n",
       "      <td>polyphagia</td>\n",
       "      <td>0.027148</td>\n",
       "    </tr>\n",
       "    <tr>\n",
       "      <th>9</th>\n",
       "      <td>itching</td>\n",
       "      <td>0.026528</td>\n",
       "    </tr>\n",
       "    <tr>\n",
       "      <th>7</th>\n",
       "      <td>genital thrush</td>\n",
       "      <td>0.024697</td>\n",
       "    </tr>\n",
       "    <tr>\n",
       "      <th>13</th>\n",
       "      <td>muscle stiffness</td>\n",
       "      <td>0.024324</td>\n",
       "    </tr>\n",
       "    <tr>\n",
       "      <th>15</th>\n",
       "      <td>obesity</td>\n",
       "      <td>0.018470</td>\n",
       "    </tr>\n",
       "    <tr>\n",
       "      <th>5</th>\n",
       "      <td>weakness</td>\n",
       "      <td>0.016189</td>\n",
       "    </tr>\n",
       "  </tbody>\n",
       "</table>\n",
       "</div>"
      ],
      "text/plain": [
       "               feature  importance\n",
       "2             polyuria    0.233284\n",
       "3           polydipsia    0.202252\n",
       "1               ismale    0.096007\n",
       "0                  age    0.091185\n",
       "4   sudden weight loss    0.052766\n",
       "10        irritability    0.044237\n",
       "12     partial paresis    0.043329\n",
       "14            alopecia    0.039661\n",
       "8      visual blurring    0.030457\n",
       "11     delayed healing    0.029466\n",
       "6           polyphagia    0.027148\n",
       "9              itching    0.026528\n",
       "7       genital thrush    0.024697\n",
       "13    muscle stiffness    0.024324\n",
       "15             obesity    0.018470\n",
       "5             weakness    0.016189"
      ]
     },
     "execution_count": 18,
     "metadata": {},
     "output_type": "execute_result"
    }
   ],
   "source": [
    "pd.DataFrame({'feature':X.columns,\n",
    "             'importance': forest.feature_importances_ }).sort_values('importance',\n",
    "                                                                     ascending=False)"
   ]
  },
  {
   "cell_type": "markdown",
   "id": "f7b6e136",
   "metadata": {},
   "source": [
    "Summary:\n",
    "1. Trained a baseline model\n",
    "2. Trained three different models - logistic regression, decision tree, random forest\n",
    "3. Identified the importance features in the best performing model"
   ]
  },
  {
   "cell_type": "code",
   "execution_count": null,
   "id": "093eb37c",
   "metadata": {},
   "outputs": [],
   "source": []
  }
 ],
 "metadata": {
  "kernelspec": {
   "display_name": "Python 3 (ipykernel)",
   "language": "python",
   "name": "python3"
  },
  "language_info": {
   "codemirror_mode": {
    "name": "ipython",
    "version": 3
   },
   "file_extension": ".py",
   "mimetype": "text/x-python",
   "name": "python",
   "nbconvert_exporter": "python",
   "pygments_lexer": "ipython3",
   "version": "3.9.7"
  }
 },
 "nbformat": 4,
 "nbformat_minor": 5
}
